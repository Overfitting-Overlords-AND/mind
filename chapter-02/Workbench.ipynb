{
 "cells": [
  {
   "cell_type": "code",
   "execution_count": null,
   "id": "bbd0f296-bae7-4d47-a95a-0645f67921e8",
   "metadata": {},
   "outputs": [],
   "source": [
    "import torch\n",
    "from torch import nn\n",
    "from torch.utils.data import DataLoader\n",
    "from torchvision import datasets\n",
    "from torchvision.transforms import ToTensor"
   ]
  },
  {
   "cell_type": "code",
   "execution_count": null,
   "id": "bc09304c-e10e-42c0-844e-d88207aa3ab2",
   "metadata": {},
   "outputs": [],
   "source": [
    "batch_size = 64\n",
    "epochs = 10"
   ]
  },
  {
   "cell_type": "code",
   "execution_count": null,
   "id": "e1b95958-9a45-4391-828e-01079f3c8517",
   "metadata": {},
   "outputs": [],
   "source": [
    "# Download train data from open datasets.\n",
    "train_data = datasets.MNIST(\n",
    "    root=\"data\",\n",
    "    train=True,\n",
    "    download=True,\n",
    "    transform=ToTensor(),\n",
    ")\n",
    "\n",
    "# Download test data from open datasets.\n",
    "test_data = datasets.MNIST(\n",
    "    root=\"data\",\n",
    "    train=False,\n",
    "    download=True,\n",
    "    transform=ToTensor(),\n",
    ")\n",
    "\n",
    "# Create data loaders.\n",
    "train_dataloader = DataLoader(train_data, batch_size=batch_size)\n",
    "test_dataloader = DataLoader(test_data, batch_size=batch_size)"
   ]
  },
  {
   "cell_type": "code",
   "execution_count": null,
   "id": "406e7064-d901-4c69-9eed-2dcf9739b6fd",
   "metadata": {},
   "outputs": [],
   "source": [
    "for X, y in test_dataloader:\n",
    "    print(f\"Shape of X [N, C, H, W]: {X.shape}\")\n",
    "    print(f\"Shape of y: {y.shape} {y.dtype}\")\n",
    "    break"
   ]
  },
  {
   "cell_type": "code",
   "execution_count": null,
   "id": "9e83b73e-7165-41ca-adbf-d540c7d5f2b0",
   "metadata": {},
   "outputs": [],
   "source": [
    "%run CnnNetwork.py"
   ]
  },
  {
   "cell_type": "code",
   "execution_count": 56,
   "id": "82313d5b-5462-4223-a892-592795ca874e",
   "metadata": {},
   "outputs": [
    {
     "name": "stdout",
     "output_type": "stream",
     "text": [
      "Using cpu device\n",
      "CnnNetwork(\n",
      "  (conv1): Sequential(\n",
      "    (0): Conv2d(1, 32, kernel_size=(3, 3), stride=(1, 1))\n",
      "    (1): ReLU()\n",
      "    (2): Conv2d(32, 32, kernel_size=(3, 3), stride=(1, 1))\n",
      "    (3): ReLU()\n",
      "    (4): Dropout2d(p=0.4, inplace=False)\n",
      "  )\n",
      "  (conv2): Sequential(\n",
      "    (0): Conv2d(32, 64, kernel_size=(3, 3), stride=(1, 1))\n",
      "    (1): ReLU()\n",
      "    (2): Conv2d(64, 64, kernel_size=(3, 3), stride=(1, 1))\n",
      "    (3): ReLU()\n",
      "    (4): Dropout2d(p=0.4, inplace=False)\n",
      "  )\n",
      "  (linear_relu_stack): Sequential(\n",
      "    (0): Flatten(start_dim=1, end_dim=-1)\n",
      "    (1): Linear(in_features=25600, out_features=128, bias=True)\n",
      "    (2): ReLU()\n",
      "    (3): Dropout(p=0.4, inplace=False)\n",
      "    (4): Linear(in_features=128, out_features=10, bias=True)\n",
      "  )\n",
      ")\n"
     ]
    }
   ],
   "source": [
    "# Get cpu or gpu device for training.\n",
    "device = \"cuda\" if torch.cuda.is_available() else \"cpu\"\n",
    "print(f\"Using {device} device\")\n",
    "\n",
    "currNeuraNetwork = CnnNetwork().to(device)\n",
    "print(currNeuraNetwork)\n",
    "\n",
    "loss_fn = nn.CrossEntropyLoss()\n",
    "optimizer = torch.optim.SGD(currNeuraNetwork.parameters(), lr=1e-3)"
   ]
  },
  {
   "cell_type": "code",
   "execution_count": 58,
   "id": "f2863f93-7073-4de3-bded-e12a405d4f5a",
   "metadata": {},
   "outputs": [],
   "source": [
    "%run utils.py"
   ]
  },
  {
   "cell_type": "code",
   "execution_count": 60,
   "id": "2be69f3f-5c3b-4699-a381-e004f5fbf8ff",
   "metadata": {},
   "outputs": [
    {
     "name": "stdout",
     "output_type": "stream",
     "text": [
      "Epoch 1\n",
      "-------------------------------\n",
      "loss: 0.682391  [    0/60000]\n",
      "loss: 0.627122  [ 6400/60000]\n",
      "loss: 0.548672  [12800/60000]\n",
      "loss: 0.680942  [19200/60000]\n",
      "loss: 0.459288  [25600/60000]\n",
      "loss: 0.572853  [32000/60000]\n",
      "loss: 0.360384  [38400/60000]\n",
      "loss: 0.619772  [44800/60000]\n",
      "loss: 0.510238  [51200/60000]\n",
      "loss: 0.570686  [57600/60000]\n",
      "Test Error: \n",
      " Accuracy: 90.3%, Avg loss: 0.316928 \n",
      "\n",
      "Epoch 2\n",
      "-------------------------------\n",
      "loss: 0.452516  [    0/60000]\n",
      "loss: 0.456117  [ 6400/60000]\n",
      "loss: 0.330615  [12800/60000]\n",
      "loss: 0.490043  [19200/60000]\n",
      "loss: 0.306748  [25600/60000]\n",
      "loss: 0.529953  [32000/60000]\n",
      "loss: 0.312660  [38400/60000]\n",
      "loss: 0.472280  [44800/60000]\n",
      "loss: 0.471142  [51200/60000]\n",
      "loss: 0.563446  [57600/60000]\n",
      "Test Error: \n",
      " Accuracy: 92.9%, Avg loss: 0.238130 \n",
      "\n",
      "Epoch 3\n",
      "-------------------------------\n",
      "loss: 0.358865  [    0/60000]\n",
      "loss: 0.192301  [ 6400/60000]\n",
      "loss: 0.337922  [12800/60000]\n",
      "loss: 0.369855  [19200/60000]\n",
      "loss: 0.248325  [25600/60000]\n",
      "loss: 0.425132  [32000/60000]\n",
      "loss: 0.180618  [38400/60000]\n",
      "loss: 0.528618  [44800/60000]\n",
      "loss: 0.291035  [51200/60000]\n",
      "loss: 0.444225  [57600/60000]\n",
      "Test Error: \n",
      " Accuracy: 93.8%, Avg loss: 0.204350 \n",
      "\n",
      "Epoch 4\n",
      "-------------------------------\n",
      "loss: 0.215430  [    0/60000]\n",
      "loss: 0.354472  [ 6400/60000]\n",
      "loss: 0.252672  [12800/60000]\n",
      "loss: 0.316008  [19200/60000]\n",
      "loss: 0.226289  [25600/60000]\n",
      "loss: 0.306790  [32000/60000]\n",
      "loss: 0.235517  [38400/60000]\n",
      "loss: 0.477178  [44800/60000]\n",
      "loss: 0.268033  [51200/60000]\n",
      "loss: 0.381281  [57600/60000]\n",
      "Test Error: \n",
      " Accuracy: 94.3%, Avg loss: 0.182761 \n",
      "\n",
      "Epoch 5\n",
      "-------------------------------\n",
      "loss: 0.237399  [    0/60000]\n",
      "loss: 0.236512  [ 6400/60000]\n",
      "loss: 0.173530  [12800/60000]\n",
      "loss: 0.447847  [19200/60000]\n",
      "loss: 0.193838  [25600/60000]\n",
      "loss: 0.280394  [32000/60000]\n",
      "loss: 0.167738  [38400/60000]\n",
      "loss: 0.330035  [44800/60000]\n",
      "loss: 0.234172  [51200/60000]\n",
      "loss: 0.356042  [57600/60000]\n",
      "Test Error: \n",
      " Accuracy: 95.0%, Avg loss: 0.166691 \n",
      "\n",
      "Done!\n"
     ]
    }
   ],
   "source": [
    "for t in range(epochs):\n",
    "    print(f\"Epoch {t+1}\\n-------------------------------\")\n",
    "    train(train_dataloader, currNeuraNetwork, loss_fn, optimizer)\n",
    "    test(test_dataloader, currNeuraNetwork, loss_fn)\n",
    "\n",
    "print(\"Done!\")"
   ]
  },
  {
   "cell_type": "code",
   "execution_count": 70,
   "id": "692717e5-16a8-4ba0-9c48-71f4f90e830d",
   "metadata": {},
   "outputs": [],
   "source": [
    "import os\n",
    "\n",
    "torch.save(currNeuraNetwork.state_dict(), '/test/model_params')"
   ]
  }
 ],
 "metadata": {
  "kernelspec": {
   "display_name": "Python 3 (ipykernel)",
   "language": "python",
   "name": "python3"
  },
  "language_info": {
   "codemirror_mode": {
    "name": "ipython",
    "version": 3
   },
   "file_extension": ".py",
   "mimetype": "text/x-python",
   "name": "python",
   "nbconvert_exporter": "python",
   "pygments_lexer": "ipython3",
   "version": "3.7.15"
  }
 },
 "nbformat": 4,
 "nbformat_minor": 5
}
