{
 "cells": [
  {
   "cell_type": "code",
   "execution_count": 32,
   "id": "2cc1fe44-d147-4425-8cc9-cdc2d923f1f5",
   "metadata": {},
   "outputs": [
    {
     "name": "stdout",
     "output_type": "stream",
     "text": [
      "The autoreload extension is already loaded. To reload it, use:\n",
      "  %reload_ext autoreload\n"
     ]
    }
   ],
   "source": [
    "%load_ext autoreload\n",
    "%autoreload 2"
   ]
  },
  {
   "cell_type": "code",
   "execution_count": 33,
   "id": "9f7a2265-2f86-4fc7-9afc-7ae5d1eb64bb",
   "metadata": {},
   "outputs": [],
   "source": [
    "import torch\n",
    "import cv2\n",
    "from torch import nn\n",
    "from torch.utils.data import DataLoader\n",
    "from torchvision import datasets\n",
    "from torchvision.transforms import ToTensor\n",
    "\n",
    "import myCnn\n",
    "import utils"
   ]
  },
  {
   "cell_type": "code",
   "execution_count": 34,
   "id": "c80e35f5-02e3-4427-92e2-9750a85636af",
   "metadata": {},
   "outputs": [],
   "source": [
    "batch_size = 64\n",
    "epochs = 10"
   ]
  },
  {
   "cell_type": "code",
   "execution_count": 35,
   "id": "b8ee5fd1-b16a-41c9-953f-b85904d6aa5d",
   "metadata": {},
   "outputs": [],
   "source": [
    "trn_data = datasets.MNIST(\n",
    "    root=\"data\",\n",
    "    train=True,\n",
    "    download=True,\n",
    "    transform=ToTensor(),\n",
    ")\n",
    "\n",
    "tst_data = datasets.MNIST(\n",
    "    root=\"data\",\n",
    "    train=False,\n",
    "    download=True,\n",
    "    transform=ToTensor(),\n",
    ")\n",
    "\n",
    "trn_dataloader = DataLoader(trn_data, batch_size=batch_size)\n",
    "tst_dataloader = DataLoader(tst_data, batch_size=batch_size)"
   ]
  },
  {
   "cell_type": "code",
   "execution_count": 36,
   "id": "241fe2e2-1035-48a5-bfe9-f31cca78c3a2",
   "metadata": {},
   "outputs": [
    {
     "name": "stdout",
     "output_type": "stream",
     "text": [
      "Network(\n",
      "  (conv1): Sequential(\n",
      "    (0): Conv2d(1, 32, kernel_size=(3, 3), stride=(1, 1))\n",
      "    (1): ReLU()\n",
      "    (2): Conv2d(32, 32, kernel_size=(3, 3), stride=(1, 1))\n",
      "    (3): ReLU()\n",
      "    (4): Dropout2d(p=0.4, inplace=False)\n",
      "  )\n",
      "  (conv2): Sequential(\n",
      "    (0): Conv2d(32, 64, kernel_size=(3, 3), stride=(1, 1))\n",
      "    (1): ReLU()\n",
      "    (2): Conv2d(64, 64, kernel_size=(3, 3), stride=(1, 1))\n",
      "    (3): ReLU()\n",
      "    (4): Dropout2d(p=0.4, inplace=False)\n",
      "  )\n",
      "  (linear_relu_stack): Sequential(\n",
      "    (0): Flatten(start_dim=1, end_dim=-1)\n",
      "    (1): Linear(in_features=25600, out_features=128, bias=True)\n",
      "    (2): ReLU()\n",
      "    (3): Dropout(p=0.4, inplace=False)\n",
      "    (4): Linear(in_features=128, out_features=10, bias=True)\n",
      "  )\n",
      ")\n"
     ]
    }
   ],
   "source": [
    "currNetwork = myCnn.Network()\n",
    "print(currNetwork)\n",
    "\n",
    "loss_fn = nn.CrossEntropyLoss()\n",
    "optimizer = torch.optim.SGD(currNetwork.parameters(), lr=1e-3)"
   ]
  },
  {
   "cell_type": "code",
   "execution_count": 37,
   "id": "e42bd6ec-52e1-4dfb-90b1-afa297affaa6",
   "metadata": {},
   "outputs": [],
   "source": [
    "# for t in range(epochs):\n",
    "#     print(f\"Epoch {t+1}\\n-------------------------------\")\n",
    "#     utils.trn(trn_dataloader, currNetwork, loss_fn, optimizer)\n",
    "#     utils.tst(tst_dataloader, currNetwork, loss_fn)\n",
    "    \n",
    "# print(\"Done!\")"
   ]
  },
  {
   "cell_type": "code",
   "execution_count": 26,
   "id": "a548d62e-629c-4856-b1a8-d128b3a92427",
   "metadata": {},
   "outputs": [],
   "source": [
    "# torch.save(currNetwork.state_dict(), 'params.pt')\n",
    "# torch.save(currNetwork, 'arch.pt')\n",
    "# # using TorchScript\n",
    "# script = torch.jit.script(currNetwork)\n",
    "# script.save('script.pt')"
   ]
  },
  {
   "cell_type": "code",
   "execution_count": 53,
   "id": "1179acb4-5266-41bc-8a20-52c93625ebd1",
   "metadata": {},
   "outputs": [
    {
     "name": "stdout",
     "output_type": "stream",
     "text": [
      "good 0\n"
     ]
    }
   ],
   "source": [
    "model = torch.jit.load('script.pt')\n",
    "model.eval()\n",
    "\n",
    "my_04 = \"data:image/png;base64,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\"\n",
    "numTensor = utils.baseStrToTensor(my_04)\n",
    "res = model(numTensor).argmax(1).item()\n",
    "print(\"good\", res)"
   ]
  }
 ],
 "metadata": {
  "kernelspec": {
   "display_name": "Python 3 (ipykernel)",
   "language": "python",
   "name": "python3"
  },
  "language_info": {
   "codemirror_mode": {
    "name": "ipython",
    "version": 3
   },
   "file_extension": ".py",
   "mimetype": "text/x-python",
   "name": "python",
   "nbconvert_exporter": "python",
   "pygments_lexer": "ipython3",
   "version": "3.7.16"
  }
 },
 "nbformat": 4,
 "nbformat_minor": 5
}
