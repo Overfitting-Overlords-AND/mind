{
 "cells": [
  {
   "cell_type": "code",
   "execution_count": 22,
   "id": "96374aa3-9ea1-4793-b67a-638f0bb6cdb5",
   "metadata": {},
   "outputs": [
    {
     "name": "stdout",
     "output_type": "stream",
     "text": [
      "X.shape (1, 3)\n",
      "W.shape (3, 4)\n",
      "Y.shape (1, 4)\n"
     ]
    },
    {
     "data": {
      "text/plain": [
       "(array([[5, 3, 6]]),\n",
       " array([[2, 1, 4, 3],\n",
       "        [0, 5, 3, 1],\n",
       "        [2, 5, 4, 0]]),\n",
       " array([[22, 50, 53, 18]]))"
      ]
     },
     "execution_count": 22,
     "metadata": {},
     "output_type": "execute_result"
    }
   ],
   "source": [
    "import numpy as np\n",
    "\n",
    "X = np.array([[5, 3, 6]])\n",
    "W = np.array([[2, 1, 4, 3], [0, 5, 3, 1], [2, 5, 4, 0]])\n",
    "\n",
    "Y = X @ W\n",
    "\n",
    "print(\"X.shape\", X.shape)\n",
    "print(\"W.shape\", W.shape)\n",
    "print(\"Y.shape\", Y.shape)\n",
    "X, W, Y"
   ]
  },
  {
   "cell_type": "code",
   "execution_count": 23,
   "id": "5775d7f0-c95b-4d1a-895d-57301d2debf1",
   "metadata": {},
   "outputs": [
    {
     "name": "stdout",
     "output_type": "stream",
     "text": [
      "X.T.shape (3, 1)\n",
      "W.T.shape (4, 3)\n",
      "YT.shape (4, 1)\n"
     ]
    },
    {
     "data": {
      "text/plain": [
       "(array([[5],\n",
       "        [3],\n",
       "        [6]]),\n",
       " array([[2, 0, 2],\n",
       "        [1, 5, 5],\n",
       "        [4, 3, 4],\n",
       "        [3, 1, 0]]),\n",
       " array([[22],\n",
       "        [50],\n",
       "        [53],\n",
       "        [18]]))"
      ]
     },
     "execution_count": 23,
     "metadata": {},
     "output_type": "execute_result"
    }
   ],
   "source": [
    "YT = W.T @ X.T\n",
    "\n",
    "print(\"X.T.shape\", X.T.shape)\n",
    "print(\"W.T.shape\", W.T.shape)\n",
    "print(\"YT.shape\", YT.shape)\n",
    "X.T, W.T, YT"
   ]
  }
 ],
 "metadata": {
  "kernelspec": {
   "display_name": "Python 3 (ipykernel)",
   "language": "python",
   "name": "python3"
  },
  "language_info": {
   "codemirror_mode": {
    "name": "ipython",
    "version": 3
   },
   "file_extension": ".py",
   "mimetype": "text/x-python",
   "name": "python",
   "nbconvert_exporter": "python",
   "pygments_lexer": "ipython3",
   "version": "3.7.16"
  }
 },
 "nbformat": 4,
 "nbformat_minor": 5
}
