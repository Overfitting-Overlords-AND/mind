{
 "cells": [
  {
   "cell_type": "code",
   "execution_count": 1,
   "id": "79105bdf-ec17-4179-b3cd-5f36db7faae4",
   "metadata": {},
   "outputs": [],
   "source": [
    "import torch\n",
    "import matplotlib.pyplot as plt\n",
    "import numpy as np\n",
    "\n",
    "np.random.seed(12345)\n",
    "\n",
    "x = torch.from_numpy(np.arange(0, 100) + np.random.normal(0, 3, size=100))\n",
    "\n",
    "y = torch.from_numpy(np.concatenate((\n",
    "    np.random.normal(1, 0.5, size=10),\n",
    "    np.random.normal(1, 0.5, size=10),\n",
    "    np.random.normal(3, 0.5, size=10),\n",
    "    np.random.normal(5, 0.5, size=40),\n",
    "    np.random.normal(3, 0.5, size=30),\n",
    ")))"
   ]
  },
  {
   "cell_type": "code",
   "execution_count": 2,
   "id": "e177329b-b6fe-4d96-85fd-bfadac87cf74",
   "metadata": {},
   "outputs": [],
   "source": [
    "import torch\n",
    "\n",
    "init_ww = {\n",
    "    'w_10': torch.tensor([.05], requires_grad=True),\n",
    "    'w_11': torch.tensor([.03], requires_grad=True),\n",
    "    'w_12': torch.tensor([.01], requires_grad=True),\n",
    "    'w_13': torch.tensor([.02], requires_grad=True),\n",
    "    'w_20': torch.tensor([.10], requires_grad=True),\n",
    "    'w_21': torch.tensor([.30], requires_grad=True),\n",
    "    'w_22': torch.tensor([.20], requires_grad=True),\n",
    "}\n",
    "\n",
    "# bias, always 1\n",
    "b_00 = torch.tensor(1.)\n",
    "b_10 = torch.tensor(1.)\n",
    "\n",
    "# activation function\n",
    "f = lambda x: 2.7 ** x\n",
    "# f = lambda x: torch.log(1 + ( 2.7 ** x))\n",
    "\n",
    "def myDeep(ww, pt):\n",
    "    x_11 = (b_00 * ww['w_10']) + (pt * ww['w_11'])\n",
    "    x_12 = (b_00 * ww['w_12']) + (pt * ww['w_13'])\n",
    "    a_11 = f(x_11)\n",
    "    a_12 = f(x_12)\n",
    "    return (b_10 * ww['w_20']) + (a_11 * ww['w_21']) + (a_12 * ww['w_22'])"
   ]
  },
  {
   "cell_type": "code",
   "execution_count": 3,
   "id": "b5d4ca55-9f0a-4edd-858a-0255f3f9bd8b",
   "metadata": {},
   "outputs": [
    {
     "name": "stdout",
     "output_type": "stream",
     "text": [
      "loss: 652.4395819579156\n",
      "loss: 278.47635970500494\n",
      "loss: 257.4893570383542\n",
      "loss: 256.83966932628323\n",
      "loss: 256.57589451501144\n",
      "loss: 256.32097266074663\n",
      "loss: 256.06325345587743\n",
      "loss: 255.7978342979481\n",
      "loss: 255.51956493382895\n",
      "loss: 255.2225635041981\n"
     ]
    }
   ],
   "source": [
    "def cost(y_pop, y_hat):\n",
    "    diff = y_pop - y_hat\n",
    "    return torch.square(y_pop - y_hat).sum()\n",
    "\n",
    "lr = 0.0001\n",
    "\n",
    "for t in range(1000):\n",
    "    # forward pass\n",
    "    y_hat = myDeep(init_ww, x)\n",
    "    loss = cost(y, y_hat)\n",
    "    if t % 100 == 0: print(\"loss:\", loss.item())\n",
    "    loss.backward()\n",
    "\n",
    "    # Backprop to compute gradients with respect to loss\n",
    "    grad_w_10 = init_ww['w_10'].grad\n",
    "    grad_w_11 = init_ww['w_11'].grad\n",
    "    grad_w_12 = init_ww['w_12'].grad\n",
    "    grad_w_13 = init_ww['w_13'].grad\n",
    "    grad_w_20 = init_ww['w_20'].grad\n",
    "    grad_w_21 = init_ww['w_21'].grad\n",
    "    grad_w_22 = init_ww['w_22'].grad\n",
    "\n",
    "    # print(\"grad_w_20\", grad_w_20)\n",
    "    # print(\"grad_w_21\", grad_w_21)\n",
    "    # print(\"grad_w_22\", grad_w_22)\n",
    "    # print(\"grad_w_10\", grad_w_10)\n",
    "    # print(\"grad_w_11\", grad_w_11)\n",
    "    # print(\"grad_w_12\", grad_w_12)\n",
    "    # print(\"grad_w_13\", grad_w_13)\n",
    "\n",
    "    with torch.no_grad():\n",
    "        init_ww['w_10'] -= grad_w_10 * lr\n",
    "        init_ww['w_11'] -= grad_w_11 * lr\n",
    "        init_ww['w_12'] -= grad_w_12 * lr\n",
    "        init_ww['w_13'] -= grad_w_13 * lr\n",
    "        init_ww['w_20'] -= grad_w_20 * lr\n",
    "        init_ww['w_21'] -= grad_w_21 * lr\n",
    "        init_ww['w_22'] -= grad_w_22 * lr\n",
    "\n",
    "        grad_w_10.zero_()\n",
    "        grad_w_11.zero_()\n",
    "        grad_w_12.zero_()\n",
    "        grad_w_13.zero_()\n",
    "        grad_w_20.zero_()\n",
    "        grad_w_21.zero_()\n",
    "        grad_w_22.zero_()\n",
    "\n",
    "# print(\"w_11\", init_ww['w_11'])\n",
    "# print(\"w_13\", init_ww['w_13'])\n",
    "# print(\"w_10\", init_ww['w_10'])\n",
    "# print(\"w_12\", init_ww['w_12'])\n",
    "# print(\"w_21\", init_ww['w_21'])\n",
    "# print(\"w_22\", init_ww['w_22'])\n",
    "# print(\"w_20\", init_ww['w_20'])"
   ]
  },
  {
   "cell_type": "code",
   "execution_count": 4,
   "id": "f527048a-a90c-4be1-abe6-4f43d74aa350",
   "metadata": {},
   "outputs": [
    {
     "data": {
      "image/png": "[encoded data removed]",
      "text/plain": [
       "<Figure size 1000x300 with 2 Axes>"
      ]
     },
     "metadata": {},
     "output_type": "display_data"
    }
   ],
   "source": [
    "plt.rcParams['lines.markersize'] = 2\n",
    "fig, axs = plt.subplots(ncols=2, figsize=(10, 3))\n",
    "axs[0].set_xlim(-100, 150)\n",
    "axs[0].set_ylim(0, 7)\n",
    "axs[0].scatter(x, y);\n",
    "axs[0].scatter(x, myDeep(init_ww, x).detach().numpy());\n",
    "\n",
    "domain = torch.from_numpy(np.arange(-100, 100, 2))\n",
    "axs[1].set_xlim(-100, 150)\n",
    "axs[1].set_ylim(0, 7)\n",
    "axs[1].scatter(x, y);\n",
    "axs[1].plot(domain, myDeep(init_ww, domain).detach().numpy(), color=\"#ff7f0f\");"
   ]
  }
 ],
 "metadata": {
  "kernelspec": {
   "display_name": "Python 3 (ipykernel)",
   "language": "python",
   "name": "python3"
  },
  "language_info": {
   "codemirror_mode": {
    "name": "ipython",
    "version": 3
   },
   "file_extension": ".py",
   "mimetype": "text/x-python",
   "name": "python",
   "nbconvert_exporter": "python",
   "pygments_lexer": "ipython3",
   "version": "3.7.16"
  }
 },
 "nbformat": 4,
 "nbformat_minor": 5
}
