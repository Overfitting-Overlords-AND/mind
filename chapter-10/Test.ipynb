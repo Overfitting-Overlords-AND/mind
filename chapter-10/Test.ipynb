{
 "cells": [
  {
   "cell_type": "code",
   "execution_count": 71,
   "id": "4c279b5f-239c-45d3-9cbd-92061f2cabeb",
   "metadata": {},
   "outputs": [
    {
     "data": {
      "image/png": "[encoded data removed]",
      "text/plain": [
       "<Figure size 640x480 with 1 Axes>"
      ]
     },
     "metadata": {},
     "output_type": "display_data"
    }
   ],
   "source": [
    "import ipywidgets as widgets\n",
    "import matplotlib.pyplot as plt\n",
    "import numpy as np\n",
    "\n",
    "np.random.seed(12345)\n",
    "\n",
    "x = np.arange(0, 100) + np.random.normal(0, 3, size=100)\n",
    "\n",
    "y = np.concatenate((\n",
    "    np.random.normal(1, 0.5, size=10),\n",
    "    np.random.normal(1, 0.5, size=10),\n",
    "    np.random.normal(3, 0.5, size=10),\n",
    "    np.random.normal(5, 0.5, size=40),\n",
    "    np.random.normal(3, 0.5, size=30)\n",
    "))\n",
    "\n",
    "data = np.stack((x, y), axis=1)\n",
    "plt.scatter(data[:, 0:1], data[:, 1:2]);"
   ]
  },
  {
   "cell_type": "code",
   "execution_count": 86,
   "id": "814885be-edeb-4788-bc62-31f6e2d3c5f6",
   "metadata": {},
   "outputs": [
    {
     "data": {
      "application/vnd.jupyter.widget-view+json": {
       "model_id": "53861e4d8ff949999ee6ccf78953ed6e",
       "version_major": 2,
       "version_minor": 0
      },
      "text/plain": [
       "HBox(children=(FloatSlider(value=0.05, description='ww_10', max=5.0, min=-5.0, orientation='vertical', step=0.…"
      ]
     },
     "metadata": {},
     "output_type": "display_data"
    },
    {
     "data": {
      "application/vnd.jupyter.widget-view+json": {
       "model_id": "e74c48b43a20476f8a153349611f753a",
       "version_major": 2,
       "version_minor": 0
      },
      "text/plain": [
       "Output()"
      ]
     },
     "metadata": {},
     "output_type": "display_data"
    }
   ],
   "source": [
    "import ipywidgets as widgets\n",
    "\n",
    "w_10 = widgets.FloatSlider(value=0.05, description='ww_10', max=5, min=-5, step=0.01, orientation='vertical')\n",
    "w_11 = widgets.FloatSlider(value=0.03, description='ww_11', max=5, min=-5, step=0.01, orientation='vertical')\n",
    "w_12 = widgets.FloatSlider(value=0.01, description='ww_12', max=5, min=-5, step=0.01, orientation='vertical')\n",
    "w_13 = widgets.FloatSlider(value=0.02, description='ww_13', max=5, min=-5, step=0.01, orientation='vertical')\n",
    "w_20 = widgets.FloatSlider(value=0.15, description='ww_20', max=5, min=-5, step=0.01, orientation='vertical')\n",
    "w_21 = widgets.FloatSlider(value=0.25, description='ww_21', max=5, min=-5, step=0.01, orientation='vertical')\n",
    "w_22 = widgets.FloatSlider(value=0.15, description='ww_22', max=5, min=-5, step=0.01, orientation='vertical')\n",
    "ui = widgets.HBox([w_10, w_11, w_12, w_13, w_20, w_21, w_22])\n",
    "\n",
    "# bias, always 1\n",
    "b_00 = 1.\n",
    "b_10 = 1.\n",
    "\n",
    "# activation function\n",
    "f = lambda x: 2.7 ** x\n",
    "\n",
    "# deep learning network\n",
    "def myDeep(weights, pt):\n",
    "    x_11 = (b_00 * weights['ww_10']) + (pt * weights['ww_11'])\n",
    "    x_12 = (b_00 * weights['ww_12']) + (pt * weights['ww_13'])\n",
    "    a_11 = f(x_11)\n",
    "    a_12 = f(x_12)\n",
    "    return (b_10 * weights['ww_20']) + (a_11 * weights['ww_21']) + (a_12 * weights['ww_22'])\n",
    "\n",
    "def draw(**weights):\n",
    "    x_hat = np.linspace(0, 100, num=10)\n",
    "    y_hat = myDeep(weights, x_hat)\n",
    "    fig, ax = plt.subplots()\n",
    "    ax.set_xlim(0, 100)\n",
    "    ax.set_ylim(0, 10)\n",
    "    ax.scatter(data[:, 0:1], data[:, 1:2]);\n",
    "    ax.scatter(x_hat, y_hat);\n",
    "\n",
    "out = widgets.interactive_output(draw, {'ww_10': w_10, 'ww_11': w_11, 'ww_12': w_12, 'ww_13': w_13, 'ww_20': w_20, 'ww_21': w_21, 'ww_22': w_22})\n",
    "display(ui, out)"
   ]
  }
 ],
 "metadata": {
  "kernelspec": {
   "display_name": "Python 3 (ipykernel)",
   "language": "python",
   "name": "python3"
  },
  "language_info": {
   "codemirror_mode": {
    "name": "ipython",
    "version": 3
   },
   "file_extension": ".py",
   "mimetype": "text/x-python",
   "name": "python",
   "nbconvert_exporter": "python",
   "pygments_lexer": "ipython3",
   "version": "3.7.16"
  }
 },
 "nbformat": 4,
 "nbformat_minor": 5
}
