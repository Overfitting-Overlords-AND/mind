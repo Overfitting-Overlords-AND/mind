{
 "cells": [
  {
   "cell_type": "code",
   "execution_count": 10,
   "id": "8b4a4137-2b57-44c5-a023-b3ec2dffd9ec",
   "metadata": {},
   "outputs": [
    {
     "data": {
      "application/vnd.jupyter.widget-view+json": {
       "model_id": "6a14c96ce761427bbb05b808db1289e7",
       "version_major": 2,
       "version_minor": 0
      },
      "text/plain": [
       "interactive(children=(IntSlider(value=1, description='w', max=5, min=-5), Output()), _dom_classes=('widget-int…"
      ]
     },
     "metadata": {},
     "output_type": "display_data"
    },
    {
     "data": {
      "text/plain": [
       "<function __main__.plot_fct(w=1)>"
      ]
     },
     "execution_count": 10,
     "metadata": {},
     "output_type": "execute_result"
    }
   ],
   "source": [
    "import ipywidgets as widgets\n",
    "import matplotlib.pyplot as plt\n",
    "import numpy as np\n",
    "\n",
    "X = np.random.uniform(0, 5, size=100)\n",
    "noise = np.random.normal(size=100)\n",
    "\n",
    "def plot_fct(w=1):\n",
    "    y = 2 * X + w * noise\n",
    "    fig, ax = plt.subplots()\n",
    "    ax.scatter(X, y)\n",
    "\n",
    "widgets.interact(plot_fct, w=(-5, 5, 1))"
   ]
  }
 ],
 "metadata": {
  "kernelspec": {
   "display_name": "Python 3 (ipykernel)",
   "language": "python",
   "name": "python3"
  },
  "language_info": {
   "codemirror_mode": {
    "name": "ipython",
    "version": 3
   },
   "file_extension": ".py",
   "mimetype": "text/x-python",
   "name": "python",
   "nbconvert_exporter": "python",
   "pygments_lexer": "ipython3",
   "version": "3.7.16"
  }
 },
 "nbformat": 4,
 "nbformat_minor": 5
}
